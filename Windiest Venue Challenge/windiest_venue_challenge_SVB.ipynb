{
 "cells": [
  {
   "cell_type": "code",
   "execution_count": 1,
   "metadata": {},
   "outputs": [],
   "source": [
    "# Importing pandas, as usual\n",
    "import pandas as pd"
   ]
  },
  {
   "cell_type": "code",
   "execution_count": 2,
   "metadata": {},
   "outputs": [],
   "source": [
    "# Reading in the data\n",
    "df = pd.read_csv(r\"C:\\Users\\salba\\Desktop\\Big Data Club\\mlb-pitch-data\\games.csv\")"
   ]
  },
  {
   "cell_type": "code",
   "execution_count": 3,
   "metadata": {},
   "outputs": [
    {
     "data": {
      "text/html": [
       "<div>\n",
       "<style scoped>\n",
       "    .dataframe tbody tr th:only-of-type {\n",
       "        vertical-align: middle;\n",
       "    }\n",
       "\n",
       "    .dataframe tbody tr th {\n",
       "        vertical-align: top;\n",
       "    }\n",
       "\n",
       "    .dataframe thead th {\n",
       "        text-align: right;\n",
       "    }\n",
       "</style>\n",
       "<table border=\"1\" class=\"dataframe\">\n",
       "  <thead>\n",
       "    <tr style=\"text-align: right;\">\n",
       "      <th></th>\n",
       "      <th>attendance</th>\n",
       "      <th>away_final_score</th>\n",
       "      <th>away_team</th>\n",
       "      <th>date</th>\n",
       "      <th>elapsed_time</th>\n",
       "      <th>g_id</th>\n",
       "      <th>home_final_score</th>\n",
       "      <th>home_team</th>\n",
       "      <th>start_time</th>\n",
       "      <th>umpire_1B</th>\n",
       "      <th>umpire_2B</th>\n",
       "      <th>umpire_3B</th>\n",
       "      <th>umpire_HP</th>\n",
       "      <th>venue_name</th>\n",
       "      <th>weather</th>\n",
       "      <th>wind</th>\n",
       "      <th>delay</th>\n",
       "    </tr>\n",
       "  </thead>\n",
       "  <tbody>\n",
       "    <tr>\n",
       "      <th>0</th>\n",
       "      <td>35055</td>\n",
       "      <td>3</td>\n",
       "      <td>sln</td>\n",
       "      <td>2015-04-05</td>\n",
       "      <td>184</td>\n",
       "      <td>201500001</td>\n",
       "      <td>0</td>\n",
       "      <td>chn</td>\n",
       "      <td>7:17 PM</td>\n",
       "      <td>Mark Wegner</td>\n",
       "      <td>Marty Foster</td>\n",
       "      <td>Mike Muchlinski</td>\n",
       "      <td>Mike Winters</td>\n",
       "      <td>Wrigley Field</td>\n",
       "      <td>44 degrees, clear</td>\n",
       "      <td>7 mph, In from CF</td>\n",
       "      <td>0</td>\n",
       "    </tr>\n",
       "    <tr>\n",
       "      <th>1</th>\n",
       "      <td>45909</td>\n",
       "      <td>1</td>\n",
       "      <td>ana</td>\n",
       "      <td>2015-04-06</td>\n",
       "      <td>153</td>\n",
       "      <td>201500002</td>\n",
       "      <td>4</td>\n",
       "      <td>sea</td>\n",
       "      <td>1:12 PM</td>\n",
       "      <td>Ron Kulpa</td>\n",
       "      <td>Brian Knight</td>\n",
       "      <td>Vic Carapazza</td>\n",
       "      <td>Larry Vanover</td>\n",
       "      <td>Safeco Field</td>\n",
       "      <td>54 degrees, cloudy</td>\n",
       "      <td>1 mph, Varies</td>\n",
       "      <td>0</td>\n",
       "    </tr>\n",
       "    <tr>\n",
       "      <th>2</th>\n",
       "      <td>36969</td>\n",
       "      <td>2</td>\n",
       "      <td>atl</td>\n",
       "      <td>2015-04-06</td>\n",
       "      <td>156</td>\n",
       "      <td>201500003</td>\n",
       "      <td>1</td>\n",
       "      <td>mia</td>\n",
       "      <td>4:22 PM</td>\n",
       "      <td>Laz Diaz</td>\n",
       "      <td>Chris Guccione</td>\n",
       "      <td>Cory Blaser</td>\n",
       "      <td>Jeff Nelson</td>\n",
       "      <td>Marlins Park</td>\n",
       "      <td>80 degrees, partly cloudy</td>\n",
       "      <td>16 mph, In from CF</td>\n",
       "      <td>16</td>\n",
       "    </tr>\n",
       "    <tr>\n",
       "      <th>3</th>\n",
       "      <td>31042</td>\n",
       "      <td>6</td>\n",
       "      <td>bal</td>\n",
       "      <td>2015-04-06</td>\n",
       "      <td>181</td>\n",
       "      <td>201500004</td>\n",
       "      <td>2</td>\n",
       "      <td>tba</td>\n",
       "      <td>3:12 PM</td>\n",
       "      <td>Ed Hickox</td>\n",
       "      <td>Paul Nauert</td>\n",
       "      <td>Mike Estabrook</td>\n",
       "      <td>Dana DeMuth</td>\n",
       "      <td>Tropicana Field</td>\n",
       "      <td>72 degrees, dome</td>\n",
       "      <td>0 mph, None</td>\n",
       "      <td>0</td>\n",
       "    </tr>\n",
       "    <tr>\n",
       "      <th>4</th>\n",
       "      <td>45549</td>\n",
       "      <td>8</td>\n",
       "      <td>bos</td>\n",
       "      <td>2015-04-06</td>\n",
       "      <td>181</td>\n",
       "      <td>201500005</td>\n",
       "      <td>0</td>\n",
       "      <td>phi</td>\n",
       "      <td>3:08 PM</td>\n",
       "      <td>Phil Cuzzi</td>\n",
       "      <td>Tony Randazzo</td>\n",
       "      <td>Will Little</td>\n",
       "      <td>Gerry Davis</td>\n",
       "      <td>Citizens Bank Park</td>\n",
       "      <td>71 degrees, partly cloudy</td>\n",
       "      <td>11 mph, Out to RF</td>\n",
       "      <td>0</td>\n",
       "    </tr>\n",
       "  </tbody>\n",
       "</table>\n",
       "</div>"
      ],
      "text/plain": [
       "   attendance  away_final_score away_team        date  elapsed_time  \\\n",
       "0       35055                 3       sln  2015-04-05           184   \n",
       "1       45909                 1       ana  2015-04-06           153   \n",
       "2       36969                 2       atl  2015-04-06           156   \n",
       "3       31042                 6       bal  2015-04-06           181   \n",
       "4       45549                 8       bos  2015-04-06           181   \n",
       "\n",
       "        g_id  home_final_score home_team start_time    umpire_1B  \\\n",
       "0  201500001                 0       chn    7:17 PM  Mark Wegner   \n",
       "1  201500002                 4       sea    1:12 PM    Ron Kulpa   \n",
       "2  201500003                 1       mia    4:22 PM     Laz Diaz   \n",
       "3  201500004                 2       tba    3:12 PM    Ed Hickox   \n",
       "4  201500005                 0       phi    3:08 PM   Phil Cuzzi   \n",
       "\n",
       "        umpire_2B        umpire_3B      umpire_HP          venue_name  \\\n",
       "0    Marty Foster  Mike Muchlinski   Mike Winters       Wrigley Field   \n",
       "1    Brian Knight    Vic Carapazza  Larry Vanover        Safeco Field   \n",
       "2  Chris Guccione      Cory Blaser    Jeff Nelson        Marlins Park   \n",
       "3     Paul Nauert   Mike Estabrook    Dana DeMuth     Tropicana Field   \n",
       "4   Tony Randazzo      Will Little    Gerry Davis  Citizens Bank Park   \n",
       "\n",
       "                     weather                wind  delay  \n",
       "0          44 degrees, clear   7 mph, In from CF      0  \n",
       "1         54 degrees, cloudy       1 mph, Varies      0  \n",
       "2  80 degrees, partly cloudy  16 mph, In from CF     16  \n",
       "3           72 degrees, dome         0 mph, None      0  \n",
       "4  71 degrees, partly cloudy   11 mph, Out to RF      0  "
      ]
     },
     "execution_count": 3,
     "metadata": {},
     "output_type": "execute_result"
    }
   ],
   "source": [
    "#Let's take a look to see how we can find wind\n",
    "df.head()"
   ]
  },
  {
   "cell_type": "code",
   "execution_count": 4,
   "metadata": {},
   "outputs": [],
   "source": [
    "# Since the wind column is a string, we need to just extract the number and convert this into a numeric data type of int\n",
    "new = df[\"wind\"].str.split(\" \").str[0].astype(\"int\")\n",
    "df[\"wind\"] = new"
   ]
  },
  {
   "cell_type": "code",
   "execution_count": 5,
   "metadata": {},
   "outputs": [],
   "source": [
    "# To examine the wind speed at different venues, group by venue and aggregate on the mean\n",
    "mean_wind_speed = df.groupby(\"venue_name\")[\"wind\"].mean()\n"
   ]
  },
  {
   "cell_type": "code",
   "execution_count": 6,
   "metadata": {},
   "outputs": [
    {
     "data": {
      "text/plain": [
       "venue_name\n",
       "AT&T Park                             13.163580\n",
       "Angel Stadium                          7.627907\n",
       "Angel Stadium of Anaheim               7.060498\n",
       "BB&T Ballpark                          5.000000\n",
       "Busch Stadium                          7.922840\n",
       "Chase Field                            2.700617\n",
       "Citi Field                            10.721713\n",
       "Citizens Bank Park                     8.953560\n",
       "Comerica Park                          9.408669\n",
       "Coors Field                            6.336420\n",
       "Dodger Stadium                         5.781538\n",
       "Estadio de Beisbol Monterrey           3.333333\n",
       "Fenway Park                           11.623457\n",
       "Fort Bragg Field                       5.000000\n",
       "Globe Life Park in Arlington           9.669753\n",
       "Great American Ball Park               7.537037\n",
       "Guaranteed Rate Field                  9.938272\n",
       "Hiram Bithorn Stadium                  8.000000\n",
       "Kauffman Stadium                       9.129630\n",
       "Marlins Park                           1.340625\n",
       "Miller Park                            5.669725\n",
       "Minute Maid Park                       1.510903\n",
       "Nationals Park                         6.839506\n",
       "O.co Coliseum                         11.135802\n",
       "Oakland Coliseum                      11.176955\n",
       "Oriole Park at Camden Yards            4.984424\n",
       "PNC Park                               8.124224\n",
       "Petco Park                             9.408100\n",
       "Progressive Field                      9.823529\n",
       "Rogers Centre                          5.635802\n",
       "Safeco Field                           2.351852\n",
       "SunTrust Park                          7.185185\n",
       "Target Field                          10.527950\n",
       "Tropicana Field                        0.000000\n",
       "Turner Field                           8.155280\n",
       "U.S. Cellular Field                   10.617284\n",
       "Williamsport Little League Classic     4.000000\n",
       "Wrigley Field                          9.550769\n",
       "Yankee Stadium                         9.558642\n",
       "Name: wind, dtype: float64"
      ]
     },
     "execution_count": 6,
     "metadata": {},
     "output_type": "execute_result"
    }
   ],
   "source": [
    "#Shows the mean wind speed for all venues\n",
    "mean_wind_speed"
   ]
  },
  {
   "cell_type": "code",
   "execution_count": 7,
   "metadata": {},
   "outputs": [
    {
     "data": {
      "text/plain": [
       "'AT&T Park'"
      ]
     },
     "execution_count": 7,
     "metadata": {},
     "output_type": "execute_result"
    }
   ],
   "source": [
    "# Find the index of the max value of the wind column\n",
    "mean_wind_speed.idxmax() #This is the answer!"
   ]
  }
 ],
 "metadata": {
  "kernelspec": {
   "display_name": "Python 3",
   "language": "python",
   "name": "python3"
  },
  "language_info": {
   "codemirror_mode": {
    "name": "ipython",
    "version": 3
   },
   "file_extension": ".py",
   "mimetype": "text/x-python",
   "name": "python",
   "nbconvert_exporter": "python",
   "pygments_lexer": "ipython3",
   "version": "3.7.3"
  }
 },
 "nbformat": 4,
 "nbformat_minor": 4
}
